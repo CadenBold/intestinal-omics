{
 "cells": [
  {
   "cell_type": "code",
   "execution_count": 2,
   "id": "cff1f6ec",
   "metadata": {},
   "outputs": [],
   "source": [
    "import pandas as pd\n",
    "import matplotlib.pyplot as plt\n",
    "import numpy as np\n",
    "import seaborn as sns\n",
    "import xgboost as xgb\n",
    "import gseapy as gp\n",
    "from scipy import stats\n",
    "from scipy.stats import ttest_ind\n",
    "from sklearn.decomposition import PCA"
   ]
  },
  {
   "cell_type": "code",
   "execution_count": 3,
   "id": "fa13ff97",
   "metadata": {},
   "outputs": [],
   "source": [
    "file = \"43587_2024_572_MOESM11_ESM.xlsx\"\n",
    "\n",
    "sheets = pd.read_excel(file, sheet_name=None)"
   ]
  },
  {
   "cell_type": "code",
   "execution_count": null,
   "id": "b501c9e5",
   "metadata": {},
   "outputs": [
    {
     "data": {
      "text/plain": [
       "dict_keys(['Extended Data Fig 1b', 'Extended Data Fig 1d', 'Extended Data Fig 1g-h', 'Extended Data Fig 1k', 'Extended Data Fig 1m'])"
      ]
     },
     "execution_count": 4,
     "metadata": {},
     "output_type": "execute_result"
    }
   ],
   "source": [
    "#Fig 1b, 1g-h, and 1m are the important ones, highlighting transcriptomics, proteomics, and metaboliomics\n",
    "sheets.keys()"
   ]
  }
 ],
 "metadata": {
  "kernelspec": {
   "display_name": "venv",
   "language": "python",
   "name": "python3"
  },
  "language_info": {
   "codemirror_mode": {
    "name": "ipython",
    "version": 3
   },
   "file_extension": ".py",
   "mimetype": "text/x-python",
   "name": "python",
   "nbconvert_exporter": "python",
   "pygments_lexer": "ipython3",
   "version": "3.13.7"
  }
 },
 "nbformat": 4,
 "nbformat_minor": 5
}
